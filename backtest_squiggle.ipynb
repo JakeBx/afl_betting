{
 "cells": [
  {
   "cell_type": "markdown",
   "metadata": {},
   "source": [
    "## Backtesting Simple Squiggle\n",
    "We built a basic bot that interacts with the Betfair API by and makes selections on a simple average of predictions from the Squiggle competition. In this notebook we are going validate/invalidate this idea by back testing against historical data from 2017 & 2018."
   ]
  },
  {
   "cell_type": "markdown",
   "metadata": {},
   "source": [
    "### TODO:\n",
    "1. Format names on all data frames so they are conistent on the join\n",
    "1. Account for betfair takings in winnings calculation\n",
    "1. Optimise tip weightings according to given metrics in the squiggle df"
   ]
  },
  {
   "cell_type": "code",
   "execution_count": 1,
   "metadata": {},
   "outputs": [],
   "source": [
    "import rpy2.rinterface\n",
    "import pandas as pd\n",
    "\n",
    "%load_ext rpy2.ipython"
   ]
  },
  {
   "cell_type": "code",
   "execution_count": 2,
   "metadata": {},
   "outputs": [],
   "source": [
    "import warnings\n",
    "warnings.filterwarnings('ignore')"
   ]
  },
  {
   "cell_type": "markdown",
   "metadata": {},
   "source": [
    "### Pull historical tips\n",
    "We are using an R library to pull down the library."
   ]
  },
  {
   "cell_type": "code",
   "execution_count": 3,
   "metadata": {},
   "outputs": [],
   "source": [
    "%%R -o tips_2017 -o tips_2018\n",
    "tips_2017 <- fitzRoy::get_squiggle_data(\"tips\", year = 2017)\n",
    "tips_2018 <- fitzRoy::get_squiggle_data(\"tips\", year = 2018)"
   ]
  },
  {
   "cell_type": "markdown",
   "metadata": {},
   "source": [
    "Concatenate the dataframes pulled from fitzroy in R and find the mean tip confidence for the home team for each match"
   ]
  },
  {
   "cell_type": "code",
   "execution_count": 4,
   "metadata": {},
   "outputs": [],
   "source": [
    "tips_df = pd.concat([tips_2017, tips_2018])\n",
    "avg_tip = tips_df[['ateam', 'hteam', 'date', 'hconfidence']].groupby(['ateam', 'hteam', 'date'], as_index=False).mean()\n",
    "avg_tip.date = pd.to_datetime(avg_tip.date)"
   ]
  },
  {
   "cell_type": "markdown",
   "metadata": {},
   "source": [
    "Load the oddss data. Drop all unwanted values. Calculate odds"
   ]
  },
  {
   "cell_type": "code",
   "execution_count": 5,
   "metadata": {},
   "outputs": [],
   "source": [
    "close_18 = pd.read_csv('data/2018.csv')\n",
    "close_17 = pd.read_csv('data/2017.csv')\n",
    "\n",
    "df_odds = pd.concat([close_17, close_18])\n",
    "df_odds = df_odds[df_odds.INPLAY == 'N']\n",
    "df_odds.drop(['EVENT_ID', 'MENU_HINT', 'EVENT_NAME', 'PATHS',\n",
    "       'PARENT_MENU_HINT', 'WAP', 'VOLUME_AUD'], axis=1, inplace=True)\n",
    "\n",
    "df_odds['hteam'] = df_odds.PARENT_EVENT_NAME.apply(lambda x: x.split(' v ')[0])\n",
    "df_odds = df_odds[df_odds.SELECTION_NAME == df_odds.hteam]\n",
    "df_odds['ateam'] = df_odds.PARENT_EVENT_NAME.apply(lambda x: x.split(' v ')[1])\n",
    "df_odds['implied'] = 1 / df_odds.LAST_MATCHED_PRICE\n",
    "df_odds['date'] = pd.to_datetime(df_odds.SETT_DATE)"
   ]
  },
  {
   "cell_type": "markdown",
   "metadata": {},
   "source": [
    "Replace the datetime with a date."
   ]
  },
  {
   "cell_type": "code",
   "execution_count": 6,
   "metadata": {},
   "outputs": [],
   "source": [
    "df_odds.date = df_odds.date.apply(lambda x: x.date())\n",
    "avg_tip.date = avg_tip.date.apply(lambda x: x.date())"
   ]
  },
  {
   "cell_type": "markdown",
   "metadata": {},
   "source": [
    "Join the dataframes."
   ]
  },
  {
   "cell_type": "code",
   "execution_count": 7,
   "metadata": {},
   "outputs": [],
   "source": [
    "#TODO: Replace the inconsitent names (e.g., GWS vs Greater Western Sydney)\n",
    "check_df = df_odds.merge(avg_tip, on=['hteam', 'ateam', 'date'], how='outer').dropna()"
   ]
  },
  {
   "cell_type": "markdown",
   "metadata": {},
   "source": [
    "### Load Game Results"
   ]
  },
  {
   "cell_type": "code",
   "execution_count": 8,
   "metadata": {},
   "outputs": [],
   "source": [
    "%%R -o results -o dates\n",
    "results <- fitzRoy::get_match_results()\n",
    "dates <- toString(results[['Date']])"
   ]
  },
  {
   "cell_type": "markdown",
   "metadata": {},
   "source": [
    "### Join Results, compute outcomes\n",
    "\n",
    "You will see, I am iterating through the dataframe because it returns as not quite a pandas dataframe. Don't know why this is..."
   ]
  },
  {
   "cell_type": "code",
   "execution_count": 9,
   "metadata": {},
   "outputs": [],
   "source": [
    "for idx, name in enumerate(results.colnames):\n",
    "    if idx == 0:\n",
    "        results_df = pd.DataFrame(list(results[idx]),columns=[name])\n",
    "    else:\n",
    "        results_df[name] = list(results[idx])\n",
    "\n",
    "results_df.Date = str(dates[0]).split(', ')\n",
    "results_df.Date = pd.to_datetime(results_df.Date)\n",
    "\n",
    "results_df['Year'] = results_df.Date.apply(lambda x: x.year)\n",
    "results_df = results_df[results_df.Year > 2016]\n",
    "\n",
    "results_df['date'] = results_df.Date.apply(lambda x: x.date())\n",
    "\n",
    "# replacing some names to make the merge easier\n",
    "results_df.columns = ['Game', 'Date', 'Round', 'hteam', 'Home.Goals', 'Home.Behinds',\n",
    "       'hpoints', 'ateam', 'Away.Goals', 'Away.Behinds', 'apoints',\n",
    "       'Venue', 'Margin', 'Season', 'Round.Type', 'Round.Number', 'Year', 'date']\n",
    "\n",
    "df = check_df.merge(results_df[['date','hteam','ateam', 'apoints', 'hpoints']], on=['date', 'hteam', 'ateam'], how='inner')\n",
    "\n",
    "df.hconfidence /= 100"
   ]
  },
  {
   "cell_type": "markdown",
   "metadata": {},
   "source": [
    "### Compute bets and returns\n",
    "\n",
    "We now have the relative odds so we need to execute the logic of what the bet we are making. Here we are simply betting on the home team if confidence is higher than the implied probability, we bet on the away team if confidence is lower the the implied probability.\n",
    "\n",
    "The winnings are simply the odds times by our stake (set to 1) if we are succesful, or -1 (one negative stake) if we lose."
   ]
  },
  {
   "cell_type": "code",
   "execution_count": 10,
   "metadata": {},
   "outputs": [],
   "source": [
    "def bet_made(implied, confidence):\n",
    "    if implied >= confidence:\n",
    "        return - (1 / (1 - implied))\n",
    "    else:\n",
    "        return 1 / implied\n",
    "\n",
    "df['bet'] = df[['implied', 'hconfidence']].apply(lambda x: bet_made(x[0], x[1]), axis=1)"
   ]
  },
  {
   "cell_type": "code",
   "execution_count": 11,
   "metadata": {},
   "outputs": [],
   "source": [
    "def compute_winnings(apoints, hpoints, bet):\n",
    "    if hpoints > apoints:\n",
    "        hwin = 1\n",
    "    else:\n",
    "        hwin = -1\n",
    "        \n",
    "    return max(0, bet*hwin) - 1\n",
    "\n",
    "df['winnings'] = df[['apoints', 'hpoints', 'bet']].apply(lambda x: compute_winnings(x[0], x[1], x[2]), axis=1)"
   ]
  },
  {
   "cell_type": "markdown",
   "metadata": {},
   "source": [
    "### Reviewing Results"
   ]
  },
  {
   "cell_type": "code",
   "execution_count": 12,
   "metadata": {},
   "outputs": [
    {
     "data": {
      "text/plain": [
       "21.892687067968815"
      ]
     },
     "execution_count": 12,
     "metadata": {},
     "output_type": "execute_result"
    }
   ],
   "source": [
    "df.winnings.sum()"
   ]
  },
  {
   "cell_type": "markdown",
   "metadata": {},
   "source": [
    "So over two seasons this strategy returned 21.8 results. Thats mean if the standard bet size was 50AUD it would have returned 1050AUD.\n",
    "\n",
    "Let's take a look at how we run over this period:"
   ]
  },
  {
   "cell_type": "code",
   "execution_count": 13,
   "metadata": {},
   "outputs": [],
   "source": [
    "df.winnings.cumsum().plot();"
   ]
  },
  {
   "cell_type": "markdown",
   "metadata": {},
   "source": [
    "It looks like we:\n",
    "1. Have an upswing\n",
    "1. Have a downswing\n",
    "1. Cash reaaaallll big\n",
    "1. Then drop some money\n",
    "\n",
    "This shouldn't convince us we have a winning strategy. Lets take a look at just how big that big win is."
   ]
  },
  {
   "cell_type": "code",
   "execution_count": 14,
   "metadata": {},
   "outputs": [
    {
     "data": {
      "text/html": [
       "<div>\n",
       "<style scoped>\n",
       "    .dataframe tbody tr th:only-of-type {\n",
       "        vertical-align: middle;\n",
       "    }\n",
       "\n",
       "    .dataframe tbody tr th {\n",
       "        vertical-align: top;\n",
       "    }\n",
       "\n",
       "    .dataframe thead th {\n",
       "        text-align: right;\n",
       "    }\n",
       "</style>\n",
       "<table border=\"1\" class=\"dataframe\">\n",
       "  <thead>\n",
       "    <tr style=\"text-align: right;\">\n",
       "      <th></th>\n",
       "      <th>SETT_DATE</th>\n",
       "      <th>PARENT_EVENT_NAME</th>\n",
       "      <th>SELECTION_NAME</th>\n",
       "      <th>INPLAY</th>\n",
       "      <th>MIN_PRICE</th>\n",
       "      <th>MAX_PRICE</th>\n",
       "      <th>LAST_MATCHED_PRICE</th>\n",
       "      <th>hteam</th>\n",
       "      <th>ateam</th>\n",
       "      <th>implied</th>\n",
       "      <th>date</th>\n",
       "      <th>hconfidence</th>\n",
       "      <th>apoints</th>\n",
       "      <th>hpoints</th>\n",
       "      <th>bet</th>\n",
       "      <th>winnings</th>\n",
       "    </tr>\n",
       "  </thead>\n",
       "  <tbody>\n",
       "    <tr>\n",
       "      <th>71</th>\n",
       "      <td>21/07/2018</td>\n",
       "      <td>Sydney v Gold Coast</td>\n",
       "      <td>Sydney</td>\n",
       "      <td>N</td>\n",
       "      <td>1.03</td>\n",
       "      <td>1.1</td>\n",
       "      <td>1.03</td>\n",
       "      <td>Sydney</td>\n",
       "      <td>Gold Coast</td>\n",
       "      <td>0.970874</td>\n",
       "      <td>2018-07-21</td>\n",
       "      <td>0.907077</td>\n",
       "      <td>88</td>\n",
       "      <td>64</td>\n",
       "      <td>-34.333333</td>\n",
       "      <td>33.333333</td>\n",
       "    </tr>\n",
       "  </tbody>\n",
       "</table>\n",
       "</div>"
      ],
      "text/plain": [
       "     SETT_DATE    PARENT_EVENT_NAME SELECTION_NAME INPLAY  MIN_PRICE  \\\n",
       "71  21/07/2018  Sydney v Gold Coast         Sydney      N       1.03   \n",
       "\n",
       "    MAX_PRICE  LAST_MATCHED_PRICE   hteam       ateam   implied        date  \\\n",
       "71        1.1                1.03  Sydney  Gold Coast  0.970874  2018-07-21   \n",
       "\n",
       "    hconfidence  apoints  hpoints        bet   winnings  \n",
       "71     0.907077       88       64 -34.333333  33.333333  "
      ]
     },
     "execution_count": 14,
     "metadata": {},
     "output_type": "execute_result"
    }
   ],
   "source": [
    "df[df.winnings == df.winnings.max()]"
   ]
  },
  {
   "cell_type": "markdown",
   "metadata": {},
   "source": [
    "This could be an issue with out analysis. This recorded win is 33x a stake. So without this win be lost 12 stakes."
   ]
  },
  {
   "cell_type": "code",
   "execution_count": 15,
   "metadata": {},
   "outputs": [
    {
     "data": {
      "text/plain": [
       "-11.440646265364537"
      ]
     },
     "execution_count": 15,
     "metadata": {},
     "output_type": "execute_result"
    }
   ],
   "source": [
    "df_no_big = df[df.winnings != df.winnings.max()]\n",
    "df_no_big.winnings.sum()"
   ]
  },
  {
   "cell_type": "code",
   "execution_count": 16,
   "metadata": {},
   "outputs": [
    {
     "data": {
      "image/png": "[encoded data removed]",
      "text/plain": [
       "<Figure size 432x288 with 1 Axes>"
      ]
     },
     "metadata": {
      "needs_background": "light"
     },
     "output_type": "display_data"
    }
   ],
   "source": [
    "df_no_big.winnings.plot('hist');"
   ]
  },
  {
   "cell_type": "markdown",
   "metadata": {},
   "source": [
    "This strategy really throws a lot of money at the underdogs. We lose over 60 of the 90 something bets made in the two seasons. Of the remaining 30 or so 9 we at winnings of less than 10. That means we really are picking up the underdogs not always but most of the time."
   ]
  },
  {
   "cell_type": "code",
   "execution_count": 17,
   "metadata": {},
   "outputs": [
    {
     "data": {
      "image/png": "[encoded data removed]",
      "text/plain": [
       "<Figure size 432x288 with 1 Axes>"
      ]
     },
     "metadata": {
      "needs_background": "light"
     },
     "output_type": "display_data"
    }
   ],
   "source": [
    "df_no_big[df_no_big.winnings!=-1].winnings.plot('hist');"
   ]
  },
  {
   "cell_type": "markdown",
   "metadata": {},
   "source": [
    "### Consider the opposite\n",
    "\n",
    "This testing take no account for the winings taken for betfair, sooo if we layed all the bets we made we would have made money on the majority of bets, losting big on the single loser."
   ]
  },
  {
   "cell_type": "code",
   "execution_count": 18,
   "metadata": {},
   "outputs": [],
   "source": [
    "def reverse_bet_made(implied, confidence):\n",
    "    if implied <= confidence:\n",
    "        return - (1 / (1 - implied))\n",
    "    else:\n",
    "        return 1 / implied\n",
    "\n",
    "df['bet_reverse'] = df[['implied', 'hconfidence']].apply(lambda x: reverse_bet_made(x[0], x[1]), axis=1)"
   ]
  },
  {
   "cell_type": "code",
   "execution_count": 19,
   "metadata": {},
   "outputs": [],
   "source": [
    "def compute_winnings(apoints, hpoints, bet):\n",
    "    if hpoints > apoints:\n",
    "        hwin = 1\n",
    "    else:\n",
    "        hwin = -1\n",
    "        \n",
    "    return max(0, bet*hwin) - 1\n",
    "\n",
    "df['reverse_winnings'] = df[['apoints', 'hpoints', 'bet_reverse']].apply(lambda x: compute_winnings(x[0], x[1], x[2]), axis=1)"
   ]
  },
  {
   "cell_type": "code",
   "execution_count": 20,
   "metadata": {},
   "outputs": [
    {
     "data": {
      "text/plain": [
       "2.361704786668649"
      ]
     },
     "execution_count": 20,
     "metadata": {},
     "output_type": "execute_result"
    }
   ],
   "source": [
    "df.reverse_winnings.sum()"
   ]
  },
  {
   "cell_type": "code",
   "execution_count": 21,
   "metadata": {},
   "outputs": [
    {
     "data": {
      "image/png": "[encoded data removed]",
      "text/plain": [
       "<Figure size 432x288 with 1 Axes>"
      ]
     },
     "metadata": {
      "needs_background": "light"
     },
     "output_type": "display_data"
    }
   ],
   "source": [
    "df.reverse_winnings.cumsum().plot();"
   ]
  },
  {
   "cell_type": "code",
   "execution_count": 22,
   "metadata": {},
   "outputs": [
    {
     "data": {
      "image/png": "[encoded data removed]",
      "text/plain": [
       "<Figure size 432x288 with 1 Axes>"
      ]
     },
     "metadata": {
      "needs_background": "light"
     },
     "output_type": "display_data"
    }
   ],
   "source": [
    "df.reverse_winnings.plot('hist');"
   ]
  },
  {
   "cell_type": "markdown",
   "metadata": {},
   "source": [
    "### Predictive Power?\n",
    "\n",
    "So we have implemented a strategy, and implemented the reverse. One is profitably only because of a single very large upset (wether or not this payoff would be as large in the real world needs to be validated) while the other probably doesn't beat the bookies edge.\n",
    "\n",
    "The payoffs on the second (and indeed possibly the first) give insight into the distribution of payoffs.  The second set we see the binomial distribution we would expect and the payoff of winnings looks very much poisson. We can use this information to model and simulate expected payoffs.\n",
    "\n",
    "We have to conclude here we don't have a strategy that is consistently going to beat the market. We have a couple of options to improve our model:\n",
    "1. Dive into the squiggle predictions, pull off selections on their previous rankings and scores.\n",
    "1. Build our own model using the data in the fitzRoy API\n",
    "1. Explore other markets including the points scored, and line markets"
   ]
  },
  {
   "cell_type": "markdown",
   "metadata": {},
   "source": [
    "## References:\n",
    "- FitzRoy AFL data library in R: https://jimmyday12.github.io/fitzRoy/articles/mens-stats.html\n",
    "- Squiggle, AFL betting and analysis: https://squiggle.com.au/"
   ]
  },
  {
   "cell_type": "code",
   "execution_count": null,
   "metadata": {},
   "outputs": [],
   "source": []
  }
 ],
 "metadata": {
  "kernelspec": {
   "display_name": "Python 3",
   "language": "python",
   "name": "python3"
  },
  "language_info": {
   "codemirror_mode": {
    "name": "ipython",
    "version": 3
   },
   "file_extension": ".py",
   "mimetype": "text/x-python",
   "name": "python",
   "nbconvert_exporter": "python",
   "pygments_lexer": "ipython3",
   "version": "3.6.6"
  }
 },
 "nbformat": 4,
 "nbformat_minor": 2
}
